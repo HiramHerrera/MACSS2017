{
 "cells": [
  {
   "cell_type": "code",
   "execution_count": 1,
   "metadata": {
    "collapsed": true
   },
   "outputs": [],
   "source": [
    "import numpy as np\n",
    "import scipy as sci\n",
    "import matplotlib.pyplot as plt\n",
    "%matplotlib inline"
   ]
  },
  {
   "cell_type": "code",
   "execution_count": 20,
   "metadata": {
    "collapsed": false
   },
   "outputs": [],
   "source": [
    "def rho(r,Mh,c):\n",
    "    rho_m = 5.27E10 #Solas masses / Mpc^3\n",
    "    r_200 = (3.*Mh/(200.*rho_m*4.*np.pi))**(1/3.)\n",
    "    rs = r_200/c\n",
    "    rho_0 = Mh/(4.*np.pi*rs**3.*(np.log(1.+c) - c/(1.+c)))\n",
    "    rho_r = rho_0/((r/rs)*(1.+ r/rs)**2.)\n",
    "    return rho_r\n",
    "h = 0.7"
   ]
  },
  {
   "cell_type": "code",
   "execution_count": 21,
   "metadata": {
    "collapsed": false,
    "scrolled": true
   },
   "outputs": [
    {
     "name": "stdout",
     "output_type": "stream",
     "text": [
      "r_200 = 0.609570011549\n",
      "rs = 0.101595001925\n",
      "rho_0 = 6.97008447661e+14\n"
     ]
    }
   ],
   "source": [
    "rho_m = 5.27E10\n",
    "c = 6\n",
    "Mh = 1E13\n",
    "r_200 =(3.*Mh/(200.*rho_m*4.*np.pi))**(1/3.)\n",
    "rs = r_200/c\n",
    "rho_0 = Mh/(4.*np.pi*rs**3.*(np.log(1.+c) - c/(1.+c)))\n",
    "\n",
    "\n",
    "print 'r_200 =',r_200\n",
    "print 'rs =',rs\n",
    "print 'rho_0 =',rho_0"
   ]
  },
  {
   "cell_type": "code",
   "execution_count": 45,
   "metadata": {
    "collapsed": true
   },
   "outputs": [],
   "source": [
    "def g_less(x):\n",
    "    term1 = 8*np.arctanh(np.sqrt((1.-x)/(1.+x)))/(x**2.*np.sqrt(1.-x**2.))\n",
    "    term2 = 4.*np.log(x/2.)/x**2.\n",
    "    term3 = -2./(x**2.-1.)\n",
    "    term4 = 4.*np.arctanh(np.sqrt((1.-x)/(1.+x)))/((x**2.-1.)*np.sqrt(1.-x**2.))\n",
    "    G_less = term1 + term2 + term3 +term4\n",
    "    return G_less\n",
    "\n",
    "def g_more(x):\n",
    "    term1 = 8*np.arctan(np.sqrt((x-1.)/(1.+x)))/(x**2.*np.sqrt(x**2.-1.))\n",
    "    term2 = 4.*np.log(x/2.)/x**2.\n",
    "    term3 = -2./(x**2.-1.)\n",
    "    term4 = 4.*np.arctan(np.sqrt((x-1.)/(1.+x)))/(x**2.-1.)**(3./2.)\n",
    "    G_more = term1 + term2 + term3 +term4\n",
    "    return G_more\n",
    "    \n",
    "def delta_sigma(r,Mh,c):\n",
    "    rho_m = 5.27E10 #Solas masses / Mpc^3\n",
    "    r_200 = (3.*Mh/(200.*rho_m*4.*np.pi))**(1/3.)\n",
    "    rs = r_200/c\n",
    "    rho_0 = Mh/(4.*np.pi*rs**3.*(np.log(1.+c) - c/(1.+c)))\n",
    "    X = r/rs \n",
    "    \n",
    "    if (X < 1.):\n",
    "        return rs*rho_0*g_less(X) \n",
    "    elif (X == 1.):\n",
    "        return rs*rho_0*(10./3. + 4.*np.log(1./2.))\n",
    "    elif (X > 1.):\n",
    "        return rs*rho_0*g_more(X)\n",
    "    "
   ]
  },
  {
   "cell_type": "code",
   "execution_count": 46,
   "metadata": {
    "collapsed": false
   },
   "outputs": [],
   "source": [
    "R = np.linspace(0.01,10,1000)\n",
    "DELTA = np.zeros(len(R))\n",
    "for i in range(len(R)):\n",
    "    DELTA[i] = delta_sigma(R[i],Mh,c)/ 1e12 /h"
   ]
  },
  {
   "cell_type": "code",
   "execution_count": 47,
   "metadata": {
    "collapsed": false
   },
   "outputs": [
    {
     "data": {
      "text/plain": [
       "<matplotlib.text.Text at 0x7f57ebea5450>"
      ]
     },
     "execution_count": 47,
     "metadata": {},
     "output_type": "execute_result"
    },
    {
     "data": {
      "image/png": "[encoded data removed]",
      "text/plain": [
       "<matplotlib.figure.Figure at 0x7f57ec1d3c90>"
      ]
     },
     "metadata": {},
     "output_type": "display_data"
    }
   ],
   "source": [
    "plt.loglog(R,DELTA,'-')\n",
    "plt.xlabel(r'$R[Mpc/h]$')\n",
    "plt.ylabel(r'$\\Delta \\Sigma [hM_odot/pc^2]$')"
   ]
  },
  {
   "cell_type": "code",
   "execution_count": null,
   "metadata": {
    "collapsed": true
   },
   "outputs": [],
   "source": [
    "plt.loglog"
   ]
  }
 ],
 "metadata": {
  "kernelspec": {
   "display_name": "Python 2",
   "language": "python",
   "name": "python2"
  },
  "language_info": {
   "codemirror_mode": {
    "name": "ipython",
    "version": 2
   },
   "file_extension": ".py",
   "mimetype": "text/x-python",
   "name": "python",
   "nbconvert_exporter": "python",
   "pygments_lexer": "ipython2",
   "version": "2.7.13"
  }
 },
 "nbformat": 4,
 "nbformat_minor": 2
}
