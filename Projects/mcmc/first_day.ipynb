{
 "cells": [
  {
   "cell_type": "markdown",
   "metadata": {},
   "source": [
    "# MCMC from scratch"
   ]
  },
  {
   "cell_type": "markdown",
   "metadata": {},
   "source": [
    "Here we will write a simple python program that will perform the Metropolis algorithm. In order to sample the posterior of the probability function given supernovae data."
   ]
  },
  {
   "cell_type": "markdown",
   "metadata": {},
   "source": [
    "## Loglike computation"
   ]
  },
  {
   "cell_type": "markdown",
   "metadata": {},
   "source": [
    "First we need to be able to compute the likelihood of the data given some parameters. We will actually compute the logarithm of the likelihood as it is easier to handle for the computer.\n",
    "\n",
    "First let's import some basic libraries:"
   ]
  },
  {
   "cell_type": "code",
   "execution_count": 1,
   "metadata": {
    "collapsed": true
   },
   "outputs": [],
   "source": [
    "import numpy as np\n",
    "import scipy.integrate as integrate"
   ]
  },
  {
   "cell_type": "markdown",
   "metadata": {},
   "source": [
    "Now let's use a scipy integrator in order to obtain the luminosity distance"
   ]
  },
  {
   "cell_type": "code",
   "execution_count": 2,
   "metadata": {
    "collapsed": true
   },
   "outputs": [],
   "source": [
    "def E(z,OmDE):\n",
    "    \"\"\"\n",
    "    This function computes the integrand for the computation of the luminosity distance for a flat universe\n",
    "    z -> float\n",
    "    OmDE -> float\n",
    "    gives\n",
    "    E -> float\n",
    "    \"\"\"\n",
    "    return 1/np.sqrt((1-OmDE)*(1+z)**3+OmDE)\n",
    "\n",
    "def dl(z,OmDE,h=0.7):\n",
    "    \"\"\"\n",
    "    This function computes the luminosity distance\n",
    "    z -> float\n",
    "    OmDE -> float\n",
    "    h ->float\n",
    "    returns\n",
    "    dl -> float\n",
    "    \"\"\"\n",
    "    inte=integrate.quad(E,0,z,args=(OmDE))\n",
    "    # Velocidad del sonido en km/s\n",
    "    c = 299792.458\n",
    "    # Factor de Hubble\n",
    "    Ho = 100*h\n",
    "    return c*(1+z)/Ho * inte[0]"
   ]
  },
  {
   "cell_type": "markdown",
   "metadata": {},
   "source": [
    "We now have to load the supernovae data in order to compare it with the theoretical data"
   ]
  },
  {
   "cell_type": "code",
   "execution_count": 3,
   "metadata": {
    "collapsed": false
   },
   "outputs": [
    {
     "ename": "IOError",
     "evalue": "[Errno 2] No such file or directory: '../data/SCPUnion2.1_mu_vs_z.txt'",
     "output_type": "error",
     "traceback": [
      "\u001b[0;31m---------------------------------------------------------------------------\u001b[0m",
      "\u001b[0;31mIOError\u001b[0m                                   Traceback (most recent call last)",
      "\u001b[0;32m<ipython-input-3-e619a935d9fe>\u001b[0m in \u001b[0;36m<module>\u001b[0;34m()\u001b[0m\n\u001b[0;32m----> 1\u001b[0;31m \u001b[0mzandmu\u001b[0m \u001b[0;34m=\u001b[0m \u001b[0mnp\u001b[0m\u001b[0;34m.\u001b[0m\u001b[0mloadtxt\u001b[0m\u001b[0;34m(\u001b[0m\u001b[0;34m'../data/SCPUnion2.1_mu_vs_z.txt'\u001b[0m\u001b[0;34m,\u001b[0m \u001b[0mskiprows\u001b[0m\u001b[0;34m=\u001b[0m\u001b[0;36m5\u001b[0m\u001b[0;34m,\u001b[0m\u001b[0musecols\u001b[0m\u001b[0;34m=\u001b[0m\u001b[0;34m(\u001b[0m\u001b[0;36m1\u001b[0m\u001b[0;34m,\u001b[0m\u001b[0;36m2\u001b[0m\u001b[0;34m)\u001b[0m\u001b[0;34m)\u001b[0m\u001b[0;34m\u001b[0m\u001b[0m\n\u001b[0m\u001b[1;32m      2\u001b[0m \u001b[0mcovariance\u001b[0m \u001b[0;34m=\u001b[0m \u001b[0mnp\u001b[0m\u001b[0;34m.\u001b[0m\u001b[0mloadtxt\u001b[0m\u001b[0;34m(\u001b[0m\u001b[0;34m'../data/SCPUnion2.1_covmat_sys.txt'\u001b[0m\u001b[0;34m)\u001b[0m\u001b[0;34m\u001b[0m\u001b[0m\n",
      "\u001b[0;32m/home/hiram/anaconda2/lib/python2.7/site-packages/numpy/lib/npyio.pyc\u001b[0m in \u001b[0;36mloadtxt\u001b[0;34m(fname, dtype, comments, delimiter, converters, skiprows, usecols, unpack, ndmin)\u001b[0m\n\u001b[1;32m    801\u001b[0m                 \u001b[0mfh\u001b[0m \u001b[0;34m=\u001b[0m \u001b[0miter\u001b[0m\u001b[0;34m(\u001b[0m\u001b[0mbz2\u001b[0m\u001b[0;34m.\u001b[0m\u001b[0mBZ2File\u001b[0m\u001b[0;34m(\u001b[0m\u001b[0mfname\u001b[0m\u001b[0;34m)\u001b[0m\u001b[0;34m)\u001b[0m\u001b[0;34m\u001b[0m\u001b[0m\n\u001b[1;32m    802\u001b[0m             \u001b[0;32melif\u001b[0m \u001b[0msys\u001b[0m\u001b[0;34m.\u001b[0m\u001b[0mversion_info\u001b[0m\u001b[0;34m[\u001b[0m\u001b[0;36m0\u001b[0m\u001b[0;34m]\u001b[0m \u001b[0;34m==\u001b[0m \u001b[0;36m2\u001b[0m\u001b[0;34m:\u001b[0m\u001b[0;34m\u001b[0m\u001b[0m\n\u001b[0;32m--> 803\u001b[0;31m                 \u001b[0mfh\u001b[0m \u001b[0;34m=\u001b[0m \u001b[0miter\u001b[0m\u001b[0;34m(\u001b[0m\u001b[0mopen\u001b[0m\u001b[0;34m(\u001b[0m\u001b[0mfname\u001b[0m\u001b[0;34m,\u001b[0m \u001b[0;34m'U'\u001b[0m\u001b[0;34m)\u001b[0m\u001b[0;34m)\u001b[0m\u001b[0;34m\u001b[0m\u001b[0m\n\u001b[0m\u001b[1;32m    804\u001b[0m             \u001b[0;32melse\u001b[0m\u001b[0;34m:\u001b[0m\u001b[0;34m\u001b[0m\u001b[0m\n\u001b[1;32m    805\u001b[0m                 \u001b[0mfh\u001b[0m \u001b[0;34m=\u001b[0m \u001b[0miter\u001b[0m\u001b[0;34m(\u001b[0m\u001b[0mopen\u001b[0m\u001b[0;34m(\u001b[0m\u001b[0mfname\u001b[0m\u001b[0;34m)\u001b[0m\u001b[0;34m)\u001b[0m\u001b[0;34m\u001b[0m\u001b[0m\n",
      "\u001b[0;31mIOError\u001b[0m: [Errno 2] No such file or directory: '../data/SCPUnion2.1_mu_vs_z.txt'"
     ]
    }
   ],
   "source": [
    "zandmu = np.loadtxt('../data/SCPUnion2.1_mu_vs_z.txt', skiprows=5,usecols=(1,2))\n",
    "covariance = np.loadtxt('../data/SCPUnion2.1_covmat_sys.txt')"
   ]
  },
  {
   "cell_type": "code",
   "execution_count": null,
   "metadata": {
    "collapsed": false
   },
   "outputs": [],
   "source": [
    "type(zandmu)"
   ]
  },
  {
   "cell_type": "code",
   "execution_count": null,
   "metadata": {
    "collapsed": false
   },
   "outputs": [],
   "source": [
    "np.shape(zandmu[1])"
   ]
  },
  {
   "cell_type": "markdown",
   "metadata": {},
   "source": [
    "How does this data look like?"
   ]
  },
  {
   "cell_type": "code",
   "execution_count": null,
   "metadata": {
    "collapsed": true
   },
   "outputs": [],
   "source": [
    "import matplotlib.pyplot as plt\n",
    "%matplotlib inline\n",
    "import seaborn as sb"
   ]
  },
  {
   "cell_type": "markdown",
   "metadata": {},
   "source": [
    "The supernovae"
   ]
  },
  {
   "cell_type": "code",
   "execution_count": null,
   "metadata": {
    "collapsed": false
   },
   "outputs": [],
   "source": [
    "plt.plot(zandmu[:,0],zandmu[:,1],'o')"
   ]
  },
  {
   "cell_type": "code",
   "execution_count": null,
   "metadata": {
    "collapsed": true
   },
   "outputs": [],
   "source": [
    "heat = np.log(abs(covariance))"
   ]
  },
  {
   "cell_type": "code",
   "execution_count": null,
   "metadata": {
    "collapsed": false
   },
   "outputs": [],
   "source": [
    "sb.set()\n",
    "sb.heatmap(heat)"
   ]
  },
  {
   "cell_type": "code",
   "execution_count": null,
   "metadata": {
    "collapsed": false
   },
   "outputs": [],
   "source": [
    "yerr = np.loadtxt('../data/SCPUnion2.1_mu_vs_z.txt', skiprows=5,usecols=[3])\n",
    "plt.errorbar(zandmu[:,0],zandmu[:,1], yerr=yerr, fmt='o')"
   ]
  },
  {
   "cell_type": "markdown",
   "metadata": {},
   "source": [
    "Now we can compute the log like."
   ]
  },
  {
   "cell_type": "code",
   "execution_count": null,
   "metadata": {
    "collapsed": true
   },
   "outputs": [],
   "source": [
    "dl = np.vectorize(dl)\n",
    "def loglike(params,h=0.7):\n",
    "    \"\"\"\n",
    "    This function computes the logarithm of the likelihood. It recieves a vector\n",
    "    params-> vector with one component (Omega Dark Energy)\n",
    "    \"\"\"\n",
    "    OmDE = params[0]\n",
    "# Ahora quiero calcular la diferencia entre el valor reportado y el calculado\n",
    "    delta = 5.*np.log10(dl(zandmu[:,0],OmDE,h))+25-zandmu[:,1]\n",
    "    chisquare=np.dot(delta,np.dot(np.linalg.inv(covariance),delta))\n",
    "    return -chisquare/2\n"
   ]
  },
  {
   "cell_type": "code",
   "execution_count": null,
   "metadata": {
    "collapsed": true
   },
   "outputs": [],
   "source": [
    "table_omega = np.arange(0.,1.,0.01)\n",
    "tableprob=[loglike([hola]) for hola in table_omega]\n"
   ]
  },
  {
   "cell_type": "code",
   "execution_count": null,
   "metadata": {
    "collapsed": false
   },
   "outputs": [],
   "source": [
    "plt.plot(table_omega,tableprob)"
   ]
  },
  {
   "cell_type": "code",
   "execution_count": null,
   "metadata": {
    "collapsed": false
   },
   "outputs": [],
   "source": [
    "loglike([0.6])"
   ]
  },
  {
   "cell_type": "markdown",
   "metadata": {},
   "source": [
    "All for today!"
   ]
  },
  {
   "cell_type": "markdown",
   "metadata": {},
   "source": [
    "# You can try jla data"
   ]
  },
  {
   "cell_type": "markdown",
   "metadata": {},
   "source": [
    "From http://supernovae.in2p3.fr/sdss_snls_jla/ReadMe.html download  jla_likelihood_v6.tgz and covmat_v6.tgz.\n",
    "\n",
    "- The supernovae info is contained in the file jla_lcparams.txt go that file and remove the \"#\" from the first line\n",
    "\n",
    "- Load it using genfromtxt"
   ]
  },
  {
   "cell_type": "code",
   "execution_count": null,
   "metadata": {
    "collapsed": true
   },
   "outputs": [],
   "source": [
    "jla_dataset = np.genfromtxt('../data/jla/data/jla_lcparams.txt', names=True, dtype=None)"
   ]
  },
  {
   "cell_type": "markdown",
   "metadata": {},
   "source": [
    "This function is very clever and you can use the names of the variables instead of the number of the corresponding column, like that:"
   ]
  },
  {
   "cell_type": "code",
   "execution_count": null,
   "metadata": {
    "collapsed": false
   },
   "outputs": [],
   "source": [
    "jla_dataset['zcmb']"
   ]
  },
  {
   "cell_type": "markdown",
   "metadata": {},
   "source": [
    "You can ask which are the different columns or info in that file:"
   ]
  },
  {
   "cell_type": "code",
   "execution_count": null,
   "metadata": {
    "collapsed": false
   },
   "outputs": [],
   "source": [
    "jla_dataset.dtype.names"
   ]
  },
  {
   "cell_type": "code",
   "execution_count": null,
   "metadata": {
    "collapsed": false,
    "scrolled": false
   },
   "outputs": [],
   "source": [
    "plt.plot(jla_dataset['zcmb'],jla_dataset['mb'],'o')"
   ]
  },
  {
   "cell_type": "markdown",
   "metadata": {},
   "source": [
    "From http://supernovae.in2p3.fr/sdss_snls_jla/ReadMe.html download  covmat_v6.tgz and use the example.py to compute the covariance matrix for a particular alpha, beta.\n",
    "- Copy the contents of example.py here\n",
    "- Change the names of the files according to your own file order\n",
    "- Change all the \"numpy\" for \"np\""
   ]
  },
  {
   "cell_type": "code",
   "execution_count": null,
   "metadata": {
    "collapsed": true
   },
   "outputs": [],
   "source": [
    "import pyfits\n",
    "import glob\n",
    "def mu_cov(alpha, beta):\n",
    "    \"\"\" Assemble the full covariance matrix of distance modulus\n",
    "\n",
    "    See Betoule et al. (2014), Eq. 11-13 for reference\n",
    "    \"\"\"\n",
    "    Ceta = sum([pyfits.getdata(mat) for mat in glob.glob('../data/jla/covmat/C*.fits')])\n",
    "\n",
    "    Cmu = np.zeros_like(Ceta[::3,::3])\n",
    "    for i, coef1 in enumerate([1., alpha, -beta]):\n",
    "        for j, coef2 in enumerate([1., alpha, -beta]):\n",
    "            Cmu += (coef1 * coef2) * Ceta[i::3,j::3]\n",
    "\n",
    "    # Add diagonal term from Eq. 13\n",
    "    sigma = np.loadtxt('../data/jla/covmat/sigma_mu.txt')\n",
    "    sigma_pecvel = (5 * 150 / 3e5) / (np.log(10.) * sigma[:, 2])\n",
    "    Cmu[np.diag_indices_from(Cmu)] += sigma[:, 0] ** 2 + sigma[:, 1] ** 2 + sigma_pecvel ** 2\n",
    "    \n",
    "    return Cmu\n"
   ]
  },
  {
   "cell_type": "markdown",
   "metadata": {},
   "source": [
    "Now you can compute the covariance matrix but it will depend on the nuisanse parammeters alfa and beta"
   ]
  },
  {
   "cell_type": "code",
   "execution_count": null,
   "metadata": {
    "collapsed": true
   },
   "outputs": [],
   "source": [
    "Cmu = mu_cov(0.13, 3.1)"
   ]
  },
  {
   "cell_type": "code",
   "execution_count": null,
   "metadata": {
    "collapsed": false
   },
   "outputs": [],
   "source": [
    "np.shape(Cmu)"
   ]
  },
  {
   "cell_type": "markdown",
   "metadata": {},
   "source": [
    "Now I can compute the loglike in the same way as for the union2.1 data. Just copy the loglike function from before, add as params\n",
    " - OmDE\n",
    " - alpha\n",
    " - beta\n",
    " - M_b\n",
    "For the covariance matrix use the function from before, and instead of the \"zandmu\" variable use jla_dataset"
   ]
  },
  {
   "cell_type": "code",
   "execution_count": null,
   "metadata": {
    "collapsed": true
   },
   "outputs": [],
   "source": [
    " def loglike_jla(params,h=0.7):\n",
    "    \"\"\"\n",
    "    This function computes the logarithm of the likelihood. It recieves a vector\n",
    "    params-> vector with three components (Omega Dark Energy, alpha, beta and M_b)\n",
    "    \"\"\"\n",
    "    OmDE = params[0]\n",
    "    alpha = params[1]\n",
    "    beta = params[2]\n",
    "    MB = params[3]\n",
    "    covariance = mu_cov(alpha, beta)\n",
    "    inv_covariance=np.linalg.inv(covariance)\n",
    "# Ahora quiero calcular la diferencia entre el valor reportado y el calculado\n",
    "    mu_obs = jla_dataset['mb']-(MB-alpha*jla_dataset['x1']+beta*jla_dataset['color'])\n",
    "    mu_teo = 5.*np.log10(dl(jla_dataset['zcmb'],OmDE,h))+25\n",
    "    delta = mu_teo - mu_obs\n",
    "    chisquare = np.dot(delta,np.dot(inv_covariance,delta))\n",
    "    return -chisquare/2"
   ]
  },
  {
   "cell_type": "code",
   "execution_count": null,
   "metadata": {
    "collapsed": false
   },
   "outputs": [],
   "source": [
    "param = [0.65,0.13,3.1,-20]\n",
    "loglike_jla(param)"
   ]
  },
  {
   "cell_type": "code",
   "execution_count": null,
   "metadata": {
    "collapsed": false
   },
   "outputs": [],
   "source": [
    "param = [0.7,0.13,3.1,-19]\n",
    "loglike_jla(param)"
   ]
  },
  {
   "cell_type": "markdown",
   "metadata": {},
   "source": [
    "And now we have a likelihood that depends on 4 parameters!"
   ]
  },
  {
   "cell_type": "code",
   "execution_count": null,
   "metadata": {
    "collapsed": true
   },
   "outputs": [],
   "source": []
  }
 ],
 "metadata": {
  "kernelspec": {
   "display_name": "Python 2",
   "language": "python",
   "name": "python2"
  },
  "language_info": {
   "codemirror_mode": {
    "name": "ipython",
    "version": 2
   },
   "file_extension": ".py",
   "mimetype": "text/x-python",
   "name": "python",
   "nbconvert_exporter": "python",
   "pygments_lexer": "ipython2",
   "version": "2.7.13"
  }
 },
 "nbformat": 4,
 "nbformat_minor": 2
}
