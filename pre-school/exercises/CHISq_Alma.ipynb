{
 "cells": [
  {
   "cell_type": "code",
   "execution_count": 1,
   "metadata": {
    "collapsed": false
   },
   "outputs": [],
   "source": [
    "import numpy as np\n",
    "import matplotlib.pyplot as plt\n",
    "import scipy.optimize as op\n",
    "%matplotlib inline\n",
    "\n",
    "path = '/home/hiram/Documentos/Congresos/MexiCOPAS/MACSS2017/pre-school/statistics/'"
   ]
  },
  {
   "cell_type": "code",
   "execution_count": 2,
   "metadata": {
    "collapsed": false
   },
   "outputs": [],
   "source": [
    "Xteo = np.linspace(0,10,100)\n",
    "X1 , Y1, STD1 = np.loadtxt(path+'linea_b0_10pt.txt', unpack=True)\n",
    "Xteo = np.linspace(0,10,100)\n",
    "X2 , Y2, STD2 = np.loadtxt(path+'linea_b_10pt.txt', unpack=True)"
   ]
  },
  {
   "cell_type": "code",
   "execution_count": 3,
   "metadata": {
    "collapsed": false
   },
   "outputs": [],
   "source": [
    "def ChiSq(theta, x,fx,std):\n",
    "    m,b = theta\n",
    "    Chi = (fx - m*x - b)**2.0 / std**2.0    \n",
    "    return sum(Chi)"
   ]
  },
  {
   "cell_type": "code",
   "execution_count": 4,
   "metadata": {
    "collapsed": false
   },
   "outputs": [],
   "source": [
    "fun = lambda *args: ChiSq(*args)      "
   ]
  },
  {
   "cell_type": "code",
   "execution_count": 5,
   "metadata": {
    "collapsed": false
   },
   "outputs": [],
   "source": [
    "MB1 = op.minimize(fun,[0.5,0.],args=(X1,Y1,STD1))\n",
    "MB2 = op.minimize(fun,[0.5,1.],args=(X2,Y2,STD2))"
   ]
  },
  {
   "cell_type": "code",
   "execution_count": 6,
   "metadata": {
    "collapsed": false
   },
   "outputs": [],
   "source": [
    "M1 = MB1.x[0]\n",
    "B1 = MB1.x[1]\n",
    "M2 = MB2.x[0]\n",
    "B2 = MB2.x[1]"
   ]
  },
  {
   "cell_type": "code",
   "execution_count": 7,
   "metadata": {
    "collapsed": false
   },
   "outputs": [
    {
     "name": "stdout",
     "output_type": "stream",
     "text": [
      "M1 = 0.452610208677\n",
      "B1 = 0.182488671616\n"
     ]
    },
    {
     "data": {
      "image/png": "[encoded data removed]",
      "text/plain": [
       "<matplotlib.figure.Figure at 0x7f04d2781c10>"
      ]
     },
     "metadata": {},
     "output_type": "display_data"
    }
   ],
   "source": [
    "print 'M1 =', M1\n",
    "print 'B1 =', B1\n",
    "plt.errorbar(X1,Y1,STD1, marker='o',markersize=5, linestyle='none', color='g')\n",
    "plt.plot(Xteo,M1*Xteo + B1,'b')\n",
    "plt.show()"
   ]
  },
  {
   "cell_type": "code",
   "execution_count": 8,
   "metadata": {
    "collapsed": false
   },
   "outputs": [
    {
     "name": "stdout",
     "output_type": "stream",
     "text": [
      "M2 = 0.492163705155\n",
      "B2 = 0.314328439667\n"
     ]
    },
    {
     "data": {
      "image/png": "[encoded data removed]",
      "text/plain": [
       "<matplotlib.figure.Figure at 0x7f04c8235c50>"
      ]
     },
     "metadata": {},
     "output_type": "display_data"
    }
   ],
   "source": [
    "print 'M2 =', M2\n",
    "print 'B2 =', B2\n",
    "plt.errorbar(X2,Y2,STD2, marker='o',markersize=5, linestyle='none', color='g')\n",
    "plt.plot(Xteo,M2*Xteo + B2,'b')\n",
    "plt.show()"
   ]
  }
 ],
 "metadata": {
  "kernelspec": {
   "display_name": "Python 2",
   "language": "python",
   "name": "python2"
  },
  "language_info": {
   "codemirror_mode": {
    "name": "ipython",
    "version": 2
   },
   "file_extension": ".py",
   "mimetype": "text/x-python",
   "name": "python",
   "nbconvert_exporter": "python",
   "pygments_lexer": "ipython2",
   "version": "2.7.13"
  }
 },
 "nbformat": 4,
 "nbformat_minor": 2
}
